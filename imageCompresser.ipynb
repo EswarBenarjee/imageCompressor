{
 "cells": [
  {
   "cell_type": "markdown",
   "id": "a5700acf",
   "metadata": {},
   "source": [
    "# Image Compressor"
   ]
  },
  {
   "cell_type": "markdown",
   "id": "8e757da4",
   "metadata": {},
   "source": [
    "Please follow the below instructions to compress your file.\n",
    "\n",
    "1. Save this IPYNB in any folder.\n",
    "2. In the same folder, create a folder called 'images'.\n",
    "3. In the images folder, create a folder called 'compressed'.\n",
    "4. Upload all images to be compressed in images folder.\n",
    "5. Input the path of images folder in the below prompt.\n",
    "6. Compile all the code and Get the output in \"COMPRESSED\" folder."
   ]
  },
  {
   "cell_type": "code",
   "execution_count": 1,
   "id": "d724bc57",
   "metadata": {},
   "outputs": [
    {
     "name": "stdout",
     "output_type": "stream",
     "text": [
      "Please enter your path: C:/Users/eswar/Documents/College Website/Photos/images/\n"
     ]
    }
   ],
   "source": [
    "mypath = input(\"Please enter your path: \")"
   ]
  },
  {
   "cell_type": "code",
   "execution_count": 2,
   "id": "4edd8015",
   "metadata": {},
   "outputs": [],
   "source": [
    "#Importing libraries.\n",
    "\n",
    "#Importing OS, used for saving files and changing file directories\n",
    "from os import listdir\n",
    "from os.path import isfile, join\n",
    "\n",
    "# Importing PIL, used for all Image data manipulation purposes\n",
    "from PIL import Image\n",
    "import os\n",
    "import PIL\n",
    "import glob\n",
    "from PIL import Image"
   ]
  },
  {
   "cell_type": "code",
   "execution_count": 3,
   "id": "dd966207",
   "metadata": {},
   "outputs": [
    {
     "name": "stdout",
     "output_type": "stream",
     "text": [
      "['Eswar Benarjee.jpg']\n"
     ]
    }
   ],
   "source": [
    "# List all the files in the images folder\n",
    "\n",
    "onlyfiles = [f for f in listdir(mypath) if isfile(join(mypath, f))]\n",
    "print(onlyfiles)"
   ]
  },
  {
   "cell_type": "code",
   "execution_count": 4,
   "id": "f21daba7",
   "metadata": {},
   "outputs": [
    {
     "name": "stdout",
     "output_type": "stream",
     "text": [
      "Compressed  Eswar Benarjee.jpg to Eswar Benarjee-min.jpg\n"
     ]
    }
   ],
   "source": [
    "#Image Compression\n",
    "\n",
    "for i in onlyfiles:\n",
    "    image = Image.open(mypath+i)\n",
    "    image = image.convert('RGB')\n",
    "    lastIndex = i.rfind('.')\n",
    "    img_name = i[:lastIndex] + '-min' + i[lastIndex:]\n",
    "    image.save(mypath+img_name, 'webp', optimize = True, quality = 50)\n",
    "    print('Compressed ', i, 'to', img_name)"
   ]
  },
  {
   "cell_type": "code",
   "execution_count": 5,
   "id": "7164bfab",
   "metadata": {},
   "outputs": [
    {
     "name": "stdout",
     "output_type": "stream",
     "text": [
      "Compressed all files 👍🏽\n"
     ]
    }
   ],
   "source": [
    "# Moving all Compressed Images to another folder\n",
    "\n",
    "onlyfiles = [f for f in listdir(mypath) if isfile(join(mypath, f))]\n",
    "onlyfiles = [i for i in onlyfiles if '-min' in i]\n",
    "\n",
    "for i in onlyfiles:\n",
    "    src = mypath + i\n",
    "    des = src.replace('images/', 'images/compressed/')\n",
    "    des = des.replace('-min', '')\n",
    "    os.rename(src, des)\n",
    "print('Compressed all files 👍🏽')"
   ]
  },
  {
   "cell_type": "code",
   "execution_count": null,
   "id": "067801ff",
   "metadata": {},
   "outputs": [],
   "source": []
  }
 ],
 "metadata": {
  "kernelspec": {
   "display_name": "Python 3 (ipykernel)",
   "language": "python",
   "name": "python3"
  },
  "language_info": {
   "codemirror_mode": {
    "name": "ipython",
    "version": 3
   },
   "file_extension": ".py",
   "mimetype": "text/x-python",
   "name": "python",
   "nbconvert_exporter": "python",
   "pygments_lexer": "ipython3",
   "version": "3.9.7"
  }
 },
 "nbformat": 4,
 "nbformat_minor": 5
}
